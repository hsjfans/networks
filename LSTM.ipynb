{
 "cells": [
  {
   "cell_type": "markdown",
   "metadata": {},
   "source": [
    "# 股票预测"
   ]
  },
  {
   "cell_type": "code",
   "execution_count": 1,
   "metadata": {},
   "outputs": [],
   "source": [
    "import torch\n",
    "import torch.nn as nn\n",
    "import pandas as pd\n",
    "import os\n",
    "from tqdm import tqdm\n",
    "import numpy as np\n",
    "import datetime\n",
    "import random\n",
    "import math\n",
    "import torch.nn.utils.rnn as rnn_utils"
   ]
  },
  {
   "cell_type": "code",
   "execution_count": 2,
   "metadata": {},
   "outputs": [],
   "source": [
    "seed = 10\n",
    "torch.manual_seed(seed) #cpu\n",
    "torch.cuda.manual_seed(seed) #gpu\n",
    " \n",
    "np.random.seed(seed) #numpy\n",
    "random.seed(seed) # random and transforms"
   ]
  },
  {
   "cell_type": "markdown",
   "metadata": {},
   "source": [
    "## 1. LSTM 构建"
   ]
  },
  {
   "cell_type": "code",
   "execution_count": 3,
   "metadata": {},
   "outputs": [],
   "source": [
    "class LSTMCell(nn.Module):\n",
    "    \"\"\"\n",
    "    i = sigmoid(W_{ii}x + b_{ii} + W_{hi}h + b_{hi})\n",
    "    f = sigmoid(W_{ff}x + b_{ff} + W_{hf}h + b_{hf})\n",
    "    g = tanh(W_{ig}x + b_{ig} + W_{hg}h + b_{hg})\n",
    "    o = sigmoid(W_{io}x + b_{io} + W_{ho}h + b_{h_o})\n",
    "    c' = f*c + i*g\n",
    "    h' = o*sigmoid(c')\n",
    "    \n",
    "    input_size – The number of expected features in the input x\n",
    "    hidden_size – The number of features in the hidden state h\n",
    "    \"\"\"\n",
    "    \n",
    "    def __init__(self,input_size,hidden_size):\n",
    "        super(LSTMCell,self).__init__()\n",
    "        self.hidden_size = hidden_size\n",
    "        self.input_size = input_size\n",
    "        self.wi = nn.Parameter(torch.Tensor(4*hidden_size,input_size))\n",
    "        self.wh = nn.Parameter(torch.Tensor(4*hidden_size,hidden_size))\n",
    "        self.bi = nn.Parameter(torch.Tensor(4*hidden_size))\n",
    "        self.bh = nn.Parameter(torch.Tensor(4*hidden_size))\n",
    "        self._initilization()\n",
    "    \n",
    "    def _initilization(self):\n",
    "        std = 1.0 / math.sqrt(self.hidden_size)\n",
    "        for p in self.parameters():\n",
    "            p.data.uniform_(-std, std)\n",
    "    \n",
    "    def forward(self,X,h_0, c_0): \n",
    "        \"\"\"\n",
    "        Parameter:\n",
    "          X of shape (batch, input_size): tensor containing input features\n",
    "          h_0 of shape (batch, hidden_size): tensor containing the initial hidden state for each element in the batch.\n",
    "          c_0 of shape (batch, hidden_size): tensor containing the initial cell state for each element in the batch.\n",
    "        \n",
    "        [Return]:\n",
    "          h_1 of shape (batch, hidden_size): tensor containing the next hidden state for each element in the batch\n",
    "          c_1 of shape (batch, hidden_size): tensor containing the next cell state for each element in the batch\n",
    "        \"\"\"\n",
    "        \n",
    "        gates = torch.mm(X, self.wi.T) + self.bi +  torch.mm(h_0, self.wh.T) + self.bh\n",
    "        i_gate, f_gate, gate, o_gate = gates.chunk(4, 1)\n",
    "        i = torch.sigmoid(i_gate)\n",
    "        f = torch.sigmoid(f_gate)\n",
    "        g = torch.tanh(gate)\n",
    "        o = torch.sigmoid(o_gate)\n",
    "        c_1 = f*c_0 + i*g\n",
    "        h_1 = o*torch.tanh(c_1)\n",
    "        return h_1,c_1\n",
    "\n",
    "    \n",
    "class LSTM(nn.Module):\n",
    "    \"\"\"\n",
    "    i_{t} = sigmoid(W_{ii}x_{t} + b_{ii} + W_{hi}h_{t-1} + b_{hi})\n",
    "    f_{t} = sigmoid(W_{ff}x_{t} + b_{ff} + W_{hf}h_{t-1} + b_{hf})\n",
    "    g_{t} = tanh(W_{ig}x_{t} + b_{ig} + W_{hg}h_{t-1} + b_{hg})\n",
    "    o_{t} = sigmoid(W_{io}x_{t} + b_{io} + W_{ho}h_{t-1} + b_{h_o})\n",
    "    c_{t} = f*c_{t-1} + i_{t}*g_{t}\n",
    "    h_{t} = o_{t}*sigmoid(c_{t})\n",
    "    \"\"\"\n",
    "    def __init__(self,input_size,hidden_size):\n",
    "        \"\"\"\n",
    "        Parameters:\n",
    "          input_size – The number of expected features in the input x\n",
    "          hidden_size – The number of features in the hidden state h\n",
    "        \"\"\"\n",
    "        super(LSTM,self).__init__()\n",
    "        self.cell = LSTMCell(input_size, hidden_size)\n",
    "        self.hidden_size = hidden_size\n",
    "    \n",
    "    def forward(self,X):\n",
    "        \"\"\"\n",
    "        [Parameters]:\n",
    "          X of shape (seq_len, batch, input_size)\n",
    "          h_0 of shape (batch, hidden_size)\n",
    "          c_0 of shape (batch, hidden_size)\n",
    "          num_directions: seq_len\n",
    "        [Return]:\n",
    "          output of shape (seq_len, batch, hidden_size)\n",
    "          h_n of shape (batch, hidden_size)\n",
    "          c_n of shape (batch, hidden_size)\n",
    "        \"\"\"\n",
    "        seq_len,batch,input_size = X.shape\n",
    "         # Initialize hidden state with zeros\n",
    "        h_0 = torch.zeros(batch, self.hidden_size)\n",
    "        # Initialize cell state\n",
    "        c_0 = torch.zeros(batch, self.hidden_size)\n",
    "        hidden_seq = []\n",
    "        for i in range(seq_len):\n",
    "            x_t = X[i,:,:]\n",
    "            h_0,c_0 = self.cell(x_t,h_0,c_0)\n",
    "            hidden_seq.append(h_0.unsqueeze(0))\n",
    "        hidden_seq = torch.cat(hidden_seq, dim=0)\n",
    "        return hidden_seq,h_0,c_0\n",
    "            \n",
    "\n",
    "class Net(nn.Module):\n",
    "    def __init__(self,input_size,hidden_size,output_size):\n",
    "        super(Net,self).__init__()\n",
    "        self.lstm = LSTM(input_size,hidden_size)\n",
    "        self.fc = nn.Linear(hidden_size,output_size)\n",
    "        \n",
    "    \n",
    "    def forward(self,X):\n",
    "        hidden_seq,h_0,c_0 = self.lstm(X)\n",
    "        return self.fc(hidden_seq[-1,:,:])\n",
    "    "
   ]
  },
  {
   "cell_type": "markdown",
   "metadata": {},
   "source": [
    "## 2. 数据处理"
   ]
  },
  {
   "cell_type": "code",
   "execution_count": 4,
   "metadata": {},
   "outputs": [],
   "source": [
    "def feature_normalize(data, train = True, mean_ = None,std_ = None):\n",
    "    if train:\n",
    "        mean_ = data.mean()\n",
    "        std_ = data.std()\n",
    "    return (data - mean_)/std_, mean_,std_\n",
    "\n",
    "# 铜、铝、铅、镍、锌以及锡\n",
    "cats = ['Copper','Aluminium','Lead','Nickel','Zinc','Tin']\n",
    "\n",
    "def get_indices_infos(train = True):\n",
    "    path = './valid_data'\n",
    "    if train:\n",
    "        path = './train_data'\n",
    "    files = os.listdir(path)\n",
    "    indices_infos = []\n",
    "    for file in files:\n",
    "        if file.startswith('Indices_'):\n",
    "            indices_info = pd.read_csv(f'{path}/{file}').iloc[:,1:]\n",
    "            indices_info = indices_info.rename(columns = {'Unnamed: 0.1':'Index'})\n",
    "            indices_infos.append(indices_info)\n",
    "    return indices_infos\n",
    "\n",
    "def get_label_infos(train = True):\n",
    "    \n",
    "    if not train:\n",
    "        valid_label = pd.read_csv('./valid_data/validation_label_file.csv')\n",
    "        names = valid_label['id'].str.split('-', expand = True)\n",
    "        valid_label =pd.DataFrame( {\n",
    "            'Index':valid_label['id'].str[-10:],\n",
    "            'cat':names[0].str[3:],\n",
    "            'day':names[2].str[:-1],\n",
    "            'label':valid_label['label']\n",
    "    })\n",
    "        return valid_label\n",
    "    \n",
    "    # label 信息\n",
    "    label_train_infos = {}\n",
    "    for cat in cats:\n",
    "        label_infos = []\n",
    "        for day in [1,20,60]:\n",
    "            train_d = pd.read_csv(f'./train_data/Label_LME{cat}_train_{day}d.csv').iloc[:,1:]\n",
    "            train_d = train_d.rename(columns = {'Unnamed: 0.1':'Index',\n",
    "                                                'LMAHDY':f'{cat}_{day}_LABEL',\n",
    "                                                'LMCADY':f'{cat}_{day}_LABEL',\n",
    "                                                'LMPBDY':f'{cat}_{day}_LABEL'})\n",
    "            label_infos.append(train_d)\n",
    "        label_train_infos[cat] = label_infos\n",
    "    return label_train_infos\n",
    "\n",
    "def get_cat_infos(train = True):\n",
    "    path = './valid_data'\n",
    "    if train:\n",
    "        path = './train_data'\n",
    "    "
   ]
  },
  {
   "cell_type": "markdown",
   "metadata": {},
   "source": [
    "### 2.1 训练集数据"
   ]
  },
  {
   "cell_type": "code",
   "execution_count": 5,
   "metadata": {
    "scrolled": true
   },
   "outputs": [
    {
     "name": "stdout",
     "output_type": "stream",
     "text": [
      " COMEX_Copper_train.csv\t\t    Label_LMENickel_train_1d.csv\r\n",
      " COMEX_Gold_train.csv\t\t    Label_LMENickel_train_20d.csv\r\n",
      " COMEX_Palladium_train.csv\t    Label_LMENickel_train_60d.csv\r\n",
      " COMEX_Platinum_train.csv\t    Label_LMETin_train_1d.csv\r\n",
      " COMEX_Silver_train.csv\t\t    Label_LMETin_train_20d.csv\r\n",
      "'Indices_DXY Curncy_train.csv'\t    Label_LMETin_train_60d.csv\r\n",
      "'Indices_NKY Index_train.csv'\t    Label_LMEZinc_train_1d.csv\r\n",
      "'Indices_SHSZ300 Index_train.csv'   Label_LMEZinc_train_20d.csv\r\n",
      "'Indices_SPX Index_train.csv'\t    Label_LMEZinc_train_60d.csv\r\n",
      "'Indices_SX5E Index_train.csv'\t    LMEAluminium3M_train.csv\r\n",
      "'Indices_UKX Index_train.csv'\t    LMEAluminium_OI_train.csv\r\n",
      "'Indices_VIX Index_train.csv'\t    LMECopper3M_train.csv\r\n",
      " Label_LMEAluminium_train_1d.csv    LMECopper_OI_train.csv\r\n",
      " Label_LMEAluminium_train_20d.csv   LMELead3M_train.csv\r\n",
      " Label_LMEAluminium_train_60d.csv   LMELead_OI_train.csv\r\n",
      " Label_LMECopper_train_1d.csv\t    LMENickel3M_train.csv\r\n",
      " Label_LMECopper_train_20d.csv\t    LMENickel_OI_train.csv\r\n",
      " Label_LMECopper_train_60d.csv\t    LMETin3M_train.csv\r\n",
      " Label_LMELead_train_1d.csv\t    LMETin_OI_train.csv\r\n",
      " Label_LMELead_train_20d.csv\t    LMEZinc3M_train.csv\r\n",
      " Label_LMELead_train_60d.csv\t    LMEZinc_OI_train.csv\r\n"
     ]
    }
   ],
   "source": [
    "!ls ./train_data"
   ]
  },
  {
   "cell_type": "code",
   "execution_count": 6,
   "metadata": {},
   "outputs": [],
   "source": [
    "train_indices_infos = get_indices_infos()"
   ]
  },
  {
   "cell_type": "code",
   "execution_count": 7,
   "metadata": {},
   "outputs": [
    {
     "name": "stdout",
     "output_type": "stream",
     "text": [
      "Index(['Index', 'NKY'], dtype='object')\n",
      "Index(['Index', 'DXY'], dtype='object')\n",
      "Index(['Index', 'VIX'], dtype='object')\n",
      "Index(['Index', 'SX5E'], dtype='object')\n",
      "Index(['Index', 'SHSZ300'], dtype='object')\n",
      "Index(['Index', 'SPX'], dtype='object')\n",
      "Index(['Index', 'UKX'], dtype='object')\n"
     ]
    }
   ],
   "source": [
    "for indices_info in train_indices_infos:\n",
    "    print(indices_info.columns)"
   ]
  },
  {
   "cell_type": "code",
   "execution_count": 8,
   "metadata": {},
   "outputs": [],
   "source": [
    "label_train_infos = get_label_infos()"
   ]
  },
  {
   "cell_type": "code",
   "execution_count": 9,
   "metadata": {},
   "outputs": [
    {
     "name": "stderr",
     "output_type": "stream",
     "text": [
      "100%|██████████| 6/6 [00:00<00:00, 28.50it/s]\n"
     ]
    }
   ],
   "source": [
    "# load dataset\n",
    "\n",
    "columns_map = {'LME_3M_Unnamed: 0.1':'Index',\n",
    "               'COMEX_Unnamed: 0.1':'Index',\n",
    "               'LME_OI_Index':'Index'\n",
    "              }\n",
    "infos = []\n",
    "cats_std_mean = {}\n",
    "for cat in tqdm(cats):\n",
    "    LME_OI = pd.read_csv(f'./train_data/LME{cat}_OI_train.csv').iloc[:,1:]\n",
    "    LME_OI = LME_OI.add_prefix('LME_OI_')\n",
    "    LME_3M = pd.read_csv(f'./train_data/LME{cat}3M_train.csv').iloc[:,1:]\n",
    "    LME_3M = LME_3M.add_prefix('LME_3M_')\n",
    "    LME_OI = LME_OI.rename(columns =columns_map)\n",
    "    LME_3M = LME_3M.rename(columns =columns_map)\n",
    "    info = pd.merge(LME_OI,LME_3M, how='outer',on = 'Index')\n",
    "#     for indices_info in train_indices_infos:\n",
    "#         info = pd.merge(info,indices_info,how='outer',on = 'Index')\n",
    "    if cat == 'Copper':\n",
    "        COMEX = pd.read_csv(f'./train_data/COMEX_{cat}_train.csv').iloc[:,1:]\n",
    "        COMEX = COMEX.add_prefix('COMEX_')\n",
    "        COMEX = COMEX.rename(columns = columns_map)\n",
    "        info = pd.merge(info,COMEX, how='outer',on = 'Index')\n",
    "      # 缺失值处理，填充前后两天的均值\n",
    "    info = info.fillna(method='ffill')\n",
    "    info = info.fillna(method='bfill')\n",
    "    data = info.drop('Index',axis = 1)\n",
    "    data,mean_, std_ = feature_normalize(data)\n",
    "    info[data.columns] = data\n",
    "    cats_std_mean[cat] = (mean_, std_)\n",
    "    for label_info in label_train_infos[cat]:\n",
    "        # 剔除一些没有标签的数据\n",
    "        info = pd.merge(info,label_info, how='right',on = 'Index')\n",
    "    info = info.drop('Index',axis = 1)\n",
    "    infos.append(info)"
   ]
  },
  {
   "cell_type": "code",
   "execution_count": 10,
   "metadata": {},
   "outputs": [
    {
     "name": "stdout",
     "output_type": "stream",
     "text": [
      "Copper shape (3790, 15)\n",
      "Aluminium shape (3790, 9)\n",
      "Lead shape (3790, 9)\n",
      "Nickel shape (3790, 9)\n",
      "Zinc shape (3790, 9)\n",
      "Tin shape (3790, 9)\n"
     ]
    }
   ],
   "source": [
    "for cat,info in zip(cats,infos):\n",
    "    print(f'{cat} shape {info.shape}')\n",
    "copper_info,al_info, lead_info,nickel_info,zinc_info,tin_info = infos"
   ]
  },
  {
   "cell_type": "code",
   "execution_count": 11,
   "metadata": {},
   "outputs": [
    {
     "data": {
      "text/html": [
       "<div>\n",
       "<style scoped>\n",
       "    .dataframe tbody tr th:only-of-type {\n",
       "        vertical-align: middle;\n",
       "    }\n",
       "\n",
       "    .dataframe tbody tr th {\n",
       "        vertical-align: top;\n",
       "    }\n",
       "\n",
       "    .dataframe thead th {\n",
       "        text-align: right;\n",
       "    }\n",
       "</style>\n",
       "<table border=\"1\" class=\"dataframe\">\n",
       "  <thead>\n",
       "    <tr style=\"text-align: right;\">\n",
       "      <th></th>\n",
       "      <th>LME_OI_LMCADS03</th>\n",
       "      <th>LME_3M_Open.Price</th>\n",
       "      <th>LME_3M_High.Price</th>\n",
       "      <th>LME_3M_Low.Price</th>\n",
       "      <th>LME_3M_Close.Price</th>\n",
       "      <th>LME_3M_Volume</th>\n",
       "      <th>COMEX_Open</th>\n",
       "      <th>COMEX_High</th>\n",
       "      <th>COMEX_Low</th>\n",
       "      <th>COMEX_Close</th>\n",
       "      <th>COMEX_Volume</th>\n",
       "      <th>COMEX_Open.Interest</th>\n",
       "      <th>Copper_1_LABEL</th>\n",
       "      <th>Copper_20_LABEL</th>\n",
       "      <th>Copper_60_LABEL</th>\n",
       "    </tr>\n",
       "  </thead>\n",
       "  <tbody>\n",
       "    <tr>\n",
       "      <th>0</th>\n",
       "      <td>-0.546339</td>\n",
       "      <td>-2.118704</td>\n",
       "      <td>-2.111271</td>\n",
       "      <td>-2.109964</td>\n",
       "      <td>-2.104290</td>\n",
       "      <td>0.012048</td>\n",
       "      <td>0.616517</td>\n",
       "      <td>0.615958</td>\n",
       "      <td>0.648059</td>\n",
       "      <td>0.643528</td>\n",
       "      <td>3.061131</td>\n",
       "      <td>2.741004</td>\n",
       "      <td>1.0</td>\n",
       "      <td>1.0</td>\n",
       "      <td>1.0</td>\n",
       "    </tr>\n",
       "    <tr>\n",
       "      <th>1</th>\n",
       "      <td>-0.546339</td>\n",
       "      <td>-2.095403</td>\n",
       "      <td>-2.099983</td>\n",
       "      <td>-2.088340</td>\n",
       "      <td>-2.094083</td>\n",
       "      <td>0.012048</td>\n",
       "      <td>-2.106642</td>\n",
       "      <td>-2.102181</td>\n",
       "      <td>-2.097899</td>\n",
       "      <td>-2.092263</td>\n",
       "      <td>-0.701535</td>\n",
       "      <td>-0.933671</td>\n",
       "      <td>1.0</td>\n",
       "      <td>1.0</td>\n",
       "      <td>0.0</td>\n",
       "    </tr>\n",
       "    <tr>\n",
       "      <th>2</th>\n",
       "      <td>-0.546339</td>\n",
       "      <td>-2.088121</td>\n",
       "      <td>-2.093498</td>\n",
       "      <td>-2.081460</td>\n",
       "      <td>-2.085577</td>\n",
       "      <td>0.012048</td>\n",
       "      <td>-2.090807</td>\n",
       "      <td>-2.087562</td>\n",
       "      <td>-2.080266</td>\n",
       "      <td>-2.078006</td>\n",
       "      <td>-0.795391</td>\n",
       "      <td>-0.925101</td>\n",
       "      <td>0.0</td>\n",
       "      <td>1.0</td>\n",
       "      <td>0.0</td>\n",
       "    </tr>\n",
       "    <tr>\n",
       "      <th>3</th>\n",
       "      <td>-0.546339</td>\n",
       "      <td>-2.091034</td>\n",
       "      <td>-2.094939</td>\n",
       "      <td>-2.081951</td>\n",
       "      <td>-2.089222</td>\n",
       "      <td>0.012048</td>\n",
       "      <td>-2.073916</td>\n",
       "      <td>-2.081296</td>\n",
       "      <td>-2.067976</td>\n",
       "      <td>-2.070086</td>\n",
       "      <td>-0.896738</td>\n",
       "      <td>-0.932554</td>\n",
       "      <td>1.0</td>\n",
       "      <td>1.0</td>\n",
       "      <td>0.0</td>\n",
       "    </tr>\n",
       "    <tr>\n",
       "      <th>4</th>\n",
       "      <td>-0.546339</td>\n",
       "      <td>-2.089092</td>\n",
       "      <td>-2.088214</td>\n",
       "      <td>-2.079985</td>\n",
       "      <td>-2.081446</td>\n",
       "      <td>0.012048</td>\n",
       "      <td>-2.068637</td>\n",
       "      <td>-2.081818</td>\n",
       "      <td>-2.064770</td>\n",
       "      <td>-2.073254</td>\n",
       "      <td>-0.810024</td>\n",
       "      <td>-0.947128</td>\n",
       "      <td>1.0</td>\n",
       "      <td>1.0</td>\n",
       "      <td>0.0</td>\n",
       "    </tr>\n",
       "  </tbody>\n",
       "</table>\n",
       "</div>"
      ],
      "text/plain": [
       "   LME_OI_LMCADS03  LME_3M_Open.Price  LME_3M_High.Price  LME_3M_Low.Price  \\\n",
       "0        -0.546339          -2.118704          -2.111271         -2.109964   \n",
       "1        -0.546339          -2.095403          -2.099983         -2.088340   \n",
       "2        -0.546339          -2.088121          -2.093498         -2.081460   \n",
       "3        -0.546339          -2.091034          -2.094939         -2.081951   \n",
       "4        -0.546339          -2.089092          -2.088214         -2.079985   \n",
       "\n",
       "   LME_3M_Close.Price  LME_3M_Volume  COMEX_Open  COMEX_High  COMEX_Low  \\\n",
       "0           -2.104290       0.012048    0.616517    0.615958   0.648059   \n",
       "1           -2.094083       0.012048   -2.106642   -2.102181  -2.097899   \n",
       "2           -2.085577       0.012048   -2.090807   -2.087562  -2.080266   \n",
       "3           -2.089222       0.012048   -2.073916   -2.081296  -2.067976   \n",
       "4           -2.081446       0.012048   -2.068637   -2.081818  -2.064770   \n",
       "\n",
       "   COMEX_Close  COMEX_Volume  COMEX_Open.Interest  Copper_1_LABEL  \\\n",
       "0     0.643528      3.061131             2.741004             1.0   \n",
       "1    -2.092263     -0.701535            -0.933671             1.0   \n",
       "2    -2.078006     -0.795391            -0.925101             0.0   \n",
       "3    -2.070086     -0.896738            -0.932554             1.0   \n",
       "4    -2.073254     -0.810024            -0.947128             1.0   \n",
       "\n",
       "   Copper_20_LABEL  Copper_60_LABEL  \n",
       "0              1.0              1.0  \n",
       "1              1.0              0.0  \n",
       "2              1.0              0.0  \n",
       "3              1.0              0.0  \n",
       "4              1.0              0.0  "
      ]
     },
     "execution_count": 11,
     "metadata": {},
     "output_type": "execute_result"
    }
   ],
   "source": [
    "copper_info.head()"
   ]
  },
  {
   "cell_type": "markdown",
   "metadata": {},
   "source": [
    "### 2.2 测试集数据"
   ]
  },
  {
   "cell_type": "code",
   "execution_count": 12,
   "metadata": {},
   "outputs": [
    {
     "name": "stdout",
     "output_type": "stream",
     "text": [
      " COMEX_Copper_validation.csv\t\t LMEAluminium_OI_validation.csv\r\n",
      " COMEX_Gold_validation.csv\t\t LMECopper3M_validation.csv\r\n",
      " COMEX_Palladium_validation.csv\t\t LMECopper_OI_validation.csv\r\n",
      " COMEX_Platinum_validation.csv\t\t LMELead3M_validation.csv\r\n",
      " COMEX_Silver_validation.csv\t\t LMELead_OI_validation.csv\r\n",
      "'Indices_NKY Index_validation.csv'\t LMENickel3M_validation.csv\r\n",
      "'Indices_SHSZ300 Index_validation.csv'\t LMENickel_OI_validation.csv\r\n",
      "'Indices_SPX Index_validation.csv'\t LMETin3M_validation.csv\r\n",
      "'Indices_SX5E Index_validation.csv'\t LMETin_OI_validation.csv\r\n",
      "'Indices_UKX Index_validation.csv'\t LMEZinc3M_validation.csv\r\n",
      "'Indices_VIX Index_validation.csv'\t LMEZinc_OI_validation.csv\r\n",
      " LMEAluminium3M_validation.csv\t\t validation_label_file.csv\r\n"
     ]
    }
   ],
   "source": [
    "!ls ./valid_data"
   ]
  },
  {
   "cell_type": "code",
   "execution_count": 13,
   "metadata": {},
   "outputs": [],
   "source": [
    "valid_labels = get_label_infos(train = False)"
   ]
  },
  {
   "cell_type": "code",
   "execution_count": 14,
   "metadata": {},
   "outputs": [],
   "source": [
    "labels = valid_labels.groupby(['cat','day'])\n",
    "labels_map = {}\n",
    "for (cat, day), label in labels:\n",
    "    if cat not in labels_map:\n",
    "        labels_map[cat] = {}\n",
    "    labels_map[cat][day] = label.reset_index()"
   ]
  },
  {
   "cell_type": "code",
   "execution_count": 48,
   "metadata": {},
   "outputs": [
    {
     "name": "stdout",
     "output_type": "stream",
     "text": [
      "<class 'pandas.core.frame.DataFrame'>\n",
      "RangeIndex: 253 entries, 0 to 252\n",
      "Data columns (total 5 columns):\n",
      " #   Column  Non-Null Count  Dtype \n",
      "---  ------  --------------  ----- \n",
      " 0   index   253 non-null    int64 \n",
      " 1   Index   253 non-null    object\n",
      " 2   cat     253 non-null    object\n",
      " 3   day     253 non-null    object\n",
      " 4   label   253 non-null    int64 \n",
      "dtypes: int64(2), object(3)\n",
      "memory usage: 10.0+ KB\n"
     ]
    }
   ],
   "source": [
    "labels_map['Copper']['60'].info()"
   ]
  },
  {
   "cell_type": "code",
   "execution_count": 16,
   "metadata": {},
   "outputs": [
    {
     "name": "stderr",
     "output_type": "stream",
     "text": [
      "100%|██████████| 6/6 [00:00<00:00, 107.31it/s]\n"
     ]
    }
   ],
   "source": [
    "valid_infos = []\n",
    "for cat in tqdm(cats):\n",
    "    LME_OI = pd.read_csv(f'./valid_data/LME{cat}_OI_validation.csv').iloc[:,1:]\n",
    "    LME_OI = LME_OI.add_prefix('LME_OI_')\n",
    "    LME_3M = pd.read_csv(f'./valid_data/LME{cat}3M_validation.csv').iloc[:,1:]\n",
    "    LME_3M = LME_3M.add_prefix('LME_3M_')\n",
    "    LME_OI = LME_OI.rename(columns =columns_map)\n",
    "    LME_3M = LME_3M.rename(columns =columns_map)\n",
    "    info = pd.merge(LME_OI,LME_3M, how='outer',on = 'Index')\n",
    "#     for indices_info in get_indices_infos(train = False):\n",
    "#         info = pd.merge(info,indices_info,how='outer',on = 'Index')\n",
    "    if cat == 'Copper':\n",
    "        COMEX = pd.read_csv(f'./valid_data/COMEX_{cat}_validation.csv').iloc[:,1:]\n",
    "        COMEX = COMEX.add_prefix('COMEX_')\n",
    "        COMEX = COMEX.rename(columns = columns_map)\n",
    "        info = pd.merge(info,COMEX, how='outer',on = 'Index')        \n",
    "    info = info.fillna(method='ffill')\n",
    "    info = info.fillna(method='bfill')\n",
    "    valid_infos.append(info)\n",
    "copper_valid_info,al_valid_info, lead_valid_info,nickel_valid_info,zinc_valid_info,tin_valid_info = valid_infos"
   ]
  },
  {
   "cell_type": "code",
   "execution_count": 17,
   "metadata": {},
   "outputs": [
    {
     "data": {
      "text/html": [
       "<div>\n",
       "<style scoped>\n",
       "    .dataframe tbody tr th:only-of-type {\n",
       "        vertical-align: middle;\n",
       "    }\n",
       "\n",
       "    .dataframe tbody tr th {\n",
       "        vertical-align: top;\n",
       "    }\n",
       "\n",
       "    .dataframe thead th {\n",
       "        text-align: right;\n",
       "    }\n",
       "</style>\n",
       "<table border=\"1\" class=\"dataframe\">\n",
       "  <thead>\n",
       "    <tr style=\"text-align: right;\">\n",
       "      <th></th>\n",
       "      <th>Index</th>\n",
       "      <th>LME_OI_LMCADS03</th>\n",
       "      <th>LME_3M_Open.Price</th>\n",
       "      <th>LME_3M_High.Price</th>\n",
       "      <th>LME_3M_Low.Price</th>\n",
       "      <th>LME_3M_Close.Price</th>\n",
       "      <th>LME_3M_Volume</th>\n",
       "      <th>COMEX_Open</th>\n",
       "      <th>COMEX_High</th>\n",
       "      <th>COMEX_Low</th>\n",
       "      <th>COMEX_Close</th>\n",
       "      <th>COMEX_Volume</th>\n",
       "      <th>COMEX_Open.Interest</th>\n",
       "    </tr>\n",
       "  </thead>\n",
       "  <tbody>\n",
       "    <tr>\n",
       "      <th>0</th>\n",
       "      <td>2018-01-02</td>\n",
       "      <td>2519.0</td>\n",
       "      <td>7250.0</td>\n",
       "      <td>7285.0</td>\n",
       "      <td>7196.0</td>\n",
       "      <td>7205.0</td>\n",
       "      <td>33751.0</td>\n",
       "      <td>329.65</td>\n",
       "      <td>330.95</td>\n",
       "      <td>326.75</td>\n",
       "      <td>330.05</td>\n",
       "      <td>107293.0</td>\n",
       "      <td>175744.0</td>\n",
       "    </tr>\n",
       "    <tr>\n",
       "      <th>1</th>\n",
       "      <td>2018-01-03</td>\n",
       "      <td>3079.0</td>\n",
       "      <td>7210.0</td>\n",
       "      <td>7212.5</td>\n",
       "      <td>7132.5</td>\n",
       "      <td>7147.0</td>\n",
       "      <td>39658.0</td>\n",
       "      <td>329.65</td>\n",
       "      <td>330.95</td>\n",
       "      <td>326.75</td>\n",
       "      <td>327.80</td>\n",
       "      <td>107293.0</td>\n",
       "      <td>175744.0</td>\n",
       "    </tr>\n",
       "    <tr>\n",
       "      <th>2</th>\n",
       "      <td>2018-01-04</td>\n",
       "      <td>3106.0</td>\n",
       "      <td>7166.0</td>\n",
       "      <td>7265.0</td>\n",
       "      <td>7150.0</td>\n",
       "      <td>7188.5</td>\n",
       "      <td>39800.0</td>\n",
       "      <td>327.75</td>\n",
       "      <td>328.00</td>\n",
       "      <td>323.65</td>\n",
       "      <td>325.75</td>\n",
       "      <td>104300.0</td>\n",
       "      <td>177263.0</td>\n",
       "    </tr>\n",
       "    <tr>\n",
       "      <th>3</th>\n",
       "      <td>2018-01-05</td>\n",
       "      <td>2635.0</td>\n",
       "      <td>7198.5</td>\n",
       "      <td>7217.5</td>\n",
       "      <td>7107.0</td>\n",
       "      <td>7121.0</td>\n",
       "      <td>36018.0</td>\n",
       "      <td>325.70</td>\n",
       "      <td>329.80</td>\n",
       "      <td>324.50</td>\n",
       "      <td>326.30</td>\n",
       "      <td>105443.0</td>\n",
       "      <td>176654.0</td>\n",
       "    </tr>\n",
       "    <tr>\n",
       "      <th>4</th>\n",
       "      <td>2018-01-08</td>\n",
       "      <td>2257.0</td>\n",
       "      <td>7133.5</td>\n",
       "      <td>7160.0</td>\n",
       "      <td>7105.0</td>\n",
       "      <td>7125.0</td>\n",
       "      <td>35165.0</td>\n",
       "      <td>325.85</td>\n",
       "      <td>327.60</td>\n",
       "      <td>322.25</td>\n",
       "      <td>322.95</td>\n",
       "      <td>84947.0</td>\n",
       "      <td>174869.0</td>\n",
       "    </tr>\n",
       "  </tbody>\n",
       "</table>\n",
       "</div>"
      ],
      "text/plain": [
       "        Index  LME_OI_LMCADS03  LME_3M_Open.Price  LME_3M_High.Price  \\\n",
       "0  2018-01-02           2519.0             7250.0             7285.0   \n",
       "1  2018-01-03           3079.0             7210.0             7212.5   \n",
       "2  2018-01-04           3106.0             7166.0             7265.0   \n",
       "3  2018-01-05           2635.0             7198.5             7217.5   \n",
       "4  2018-01-08           2257.0             7133.5             7160.0   \n",
       "\n",
       "   LME_3M_Low.Price  LME_3M_Close.Price  LME_3M_Volume  COMEX_Open  \\\n",
       "0            7196.0              7205.0        33751.0      329.65   \n",
       "1            7132.5              7147.0        39658.0      329.65   \n",
       "2            7150.0              7188.5        39800.0      327.75   \n",
       "3            7107.0              7121.0        36018.0      325.70   \n",
       "4            7105.0              7125.0        35165.0      325.85   \n",
       "\n",
       "   COMEX_High  COMEX_Low  COMEX_Close  COMEX_Volume  COMEX_Open.Interest  \n",
       "0      330.95     326.75       330.05      107293.0             175744.0  \n",
       "1      330.95     326.75       327.80      107293.0             175744.0  \n",
       "2      328.00     323.65       325.75      104300.0             177263.0  \n",
       "3      329.80     324.50       326.30      105443.0             176654.0  \n",
       "4      327.60     322.25       322.95       84947.0             174869.0  "
      ]
     },
     "execution_count": 17,
     "metadata": {},
     "output_type": "execute_result"
    }
   ],
   "source": [
    "copper_valid_info.head()"
   ]
  },
  {
   "cell_type": "markdown",
   "metadata": {},
   "source": [
    "## 3. pytorch lstm model"
   ]
  },
  {
   "cell_type": "code",
   "execution_count": 94,
   "metadata": {},
   "outputs": [],
   "source": [
    "from torch.utils.data import Dataset, DataLoader\n",
    "from torchvision import transforms, utils"
   ]
  },
  {
   "cell_type": "code",
   "execution_count": 95,
   "metadata": {},
   "outputs": [],
   "source": [
    "def generate_time_sequences(data,window_size = 120,label_name = 'Copper_1_LABEL',drop_name = ['Copper_1_LABEL','Copper_20_LABEL','Copper_60_LABEL']):\n",
    "    train_data = []\n",
    "    labels = []\n",
    "    for i in tqdm(range(len(data) - window_size)):\n",
    "        train_data.append(torch.from_numpy(data.iloc[i:i + window_size,:].drop(drop_name,axis = 1).values).float())\n",
    "        labels.append(torch.Tensor([data.iloc[i + window_size,:][label_name]]).long())\n",
    "    return train_data, labels\n",
    "\n",
    "def generate_test_time_sequences(test_data, labels_map,window_size = 120,cat = 'Copper', day = '1'):\n",
    "    \n",
    "    labels = labels_map[cat][day][['Index','label']]\n",
    "    data = pd.merge(test_data, labels,how = 'right', on= 'Index')\n",
    "    data = data.drop('Index',axis = 1)\n",
    "    train_data = []\n",
    "    labels = []\n",
    "    for i in tqdm(range(len(data) - window_size)):\n",
    "        train_data.append(torch.from_numpy(data.iloc[i:i + window_size,:].drop('label',axis = 1).values).float())\n",
    "        labels.append(torch.Tensor([data.iloc[i + window_size,:]['label']]).long())\n",
    "    return train_data, labels"
   ]
  },
  {
   "cell_type": "code",
   "execution_count": 96,
   "metadata": {},
   "outputs": [
    {
     "name": "stderr",
     "output_type": "stream",
     "text": [
      "100%|██████████| 3670/3670 [00:02<00:00, 1374.68it/s]\n"
     ]
    }
   ],
   "source": [
    "train_data,train_labels = generate_time_sequences(copper_info)"
   ]
  },
  {
   "cell_type": "code",
   "execution_count": 97,
   "metadata": {},
   "outputs": [],
   "source": [
    "train_labels = torch.cat(train_labels)"
   ]
  },
  {
   "cell_type": "code",
   "execution_count": 98,
   "metadata": {},
   "outputs": [],
   "source": [
    "data = copper_valid_info.drop('Index',axis = 1)\n",
    "data ,_,_ = feature_normalize(data ,train = False,mean_= cats_std_mean['Copper'][0],std_= cats_std_mean['Copper'][1])\n",
    "copper_valid_info[data.columns] = data"
   ]
  },
  {
   "cell_type": "code",
   "execution_count": 99,
   "metadata": {},
   "outputs": [
    {
     "name": "stderr",
     "output_type": "stream",
     "text": [
      "100%|██████████| 133/133 [00:00<00:00, 1228.94it/s]\n"
     ]
    }
   ],
   "source": [
    "test_data,test_labels = generate_test_time_sequences(copper_valid_info,labels_map)"
   ]
  },
  {
   "cell_type": "code",
   "execution_count": 100,
   "metadata": {},
   "outputs": [],
   "source": [
    "test_labels = torch.cat(test_labels)"
   ]
  },
  {
   "cell_type": "code",
   "execution_count": 101,
   "metadata": {},
   "outputs": [],
   "source": [
    "class LstmDataset(Dataset):\n",
    "    def __init__(self,train_data,train_labels):\n",
    "        self.train_data = train_data\n",
    "        self.train_labels = train_labels\n",
    "\n",
    "    def __getitem__(self,idx):\n",
    "        return self.train_data[idx],self.train_labels[idx]\n",
    "    \n",
    "    def __len__(self):\n",
    "        return len(self.train_data)\n"
   ]
  },
  {
   "cell_type": "code",
   "execution_count": 102,
   "metadata": {},
   "outputs": [],
   "source": [
    "data_loader = DataLoader(LstmDataset(train_data,train_labels),batch_size = 5,shuffle = True)\n",
    "test_loader = DataLoader(LstmDataset(test_data,test_labels),batch_size = 5,shuffle = True)"
   ]
  },
  {
   "cell_type": "code",
   "execution_count": 103,
   "metadata": {},
   "outputs": [],
   "source": [
    "net = Net(train_data[0].size()[1],10,2)\n",
    "criterion = torch.nn.CrossEntropyLoss()\n",
    "op = torch.optim.Adam(net.parameters(),lr = 0.5)\n",
    "epochs = 10\n",
    "batch_size = 5"
   ]
  },
  {
   "cell_type": "code",
   "execution_count": 104,
   "metadata": {},
   "outputs": [
    {
     "name": "stdout",
     "output_type": "stream",
     "text": [
      "train [epoch]: 0 , [loss]: 0.9260147709896844 , [acc]: 0.5046321525885555\n",
      "valid [epoch]: 0 , [loss]: 0.6945644881990221 , [acc]: 0.4148148148148148\n",
      "train [epoch]: 1 , [loss]: 0.8435657898557933 , [acc]: 0.512806539509537\n",
      "valid [epoch]: 1 , [loss]: 1.4836063578172967 , [acc]: 0.4148148148148148\n",
      "train [epoch]: 2 , [loss]: 0.8434179985352693 , [acc]: 0.4980926430517715\n",
      "valid [epoch]: 2 , [loss]: 2.035178021148399 , [acc]: 0.4148148148148148\n",
      "train [epoch]: 3 , [loss]: 0.8659314645977046 , [acc]: 0.4899182561307898\n",
      "valid [epoch]: 3 , [loss]: 0.6842971245447794 , [acc]: 0.5703703703703703\n",
      "train [epoch]: 4 , [loss]: 0.7999284410346756 , [acc]: 0.5125340599455047\n",
      "valid [epoch]: 4 , [loss]: 0.8930187975918805 , [acc]: 0.5703703703703704\n",
      "train [epoch]: 5 , [loss]: 0.7833914375313297 , [acc]: 0.502724795640327\n",
      "valid [epoch]: 5 , [loss]: 0.680080520885962 , [acc]: 0.5703703703703703\n",
      "train [epoch]: 6 , [loss]: 0.7973075066908829 , [acc]: 0.4972752043596729\n",
      "valid [epoch]: 6 , [loss]: 0.9455261837553095 , [acc]: 0.4148148148148149\n",
      "train [epoch]: 7 , [loss]: 0.7745207890015532 , [acc]: 0.5081743869209815\n",
      "valid [epoch]: 7 , [loss]: 0.6887396022125527 , [acc]: 0.5703703703703705\n",
      "train [epoch]: 8 , [loss]: 0.8116020408816819 , [acc]: 0.4964577656675749\n",
      "valid [epoch]: 8 , [loss]: 1.3599001853554338 , [acc]: 0.4148148148148148\n",
      "train [epoch]: 9 , [loss]: 0.7889561808036198 , [acc]: 0.47275204359672957\n",
      "valid [epoch]: 9 , [loss]: 0.7589223296554001 , [acc]: 0.41481481481481475\n",
      "CPU times: user 17min 27s, sys: 1.67 s, total: 17min 29s\n",
      "Wall time: 7min 9s\n"
     ]
    }
   ],
   "source": [
    "%%time\n",
    "for epoch in range(epochs):\n",
    "    loss = 0.0\n",
    "    acc = 0.0\n",
    "    for i,(x, label) in enumerate(data_loader):\n",
    "        op.zero_grad()\n",
    "        x = x.permute(1,0,2)\n",
    "        out = net(x)\n",
    "        l = criterion(out,label)\n",
    "        l.backward()\n",
    "        op.step()\n",
    "        acc += (1 - torch.argmax(out,dim =1)^label).sum().item()/batch_size\n",
    "        loss += l.item()\n",
    "    print(f'train [epoch]: {epoch} , [loss]: {loss/len(data_loader)} , [acc]: {acc/len(data_loader)}')\n",
    "    with torch.no_grad():\n",
    "        loss = 0.0\n",
    "        acc = 0.0\n",
    "        for i, (x, label) in enumerate(test_loader):\n",
    "            x = x.permute(1,0,2)\n",
    "            out = net(x)\n",
    "            l = criterion(out,label)\n",
    "            acc += (1 - torch.argmax(out,dim =1)^label).sum().item()/batch_size\n",
    "            loss += l.item()\n",
    "        print(f'valid [epoch]: {epoch} , [loss]: {loss/len(test_loader)} , [acc]: {acc/len(test_loader)}')\n",
    "    \n",
    "        \n",
    "    "
   ]
  },
  {
   "cell_type": "code",
   "execution_count": null,
   "metadata": {},
   "outputs": [],
   "source": []
  }
 ],
 "metadata": {
  "kernelspec": {
   "display_name": "Python 3",
   "language": "python",
   "name": "python3"
  },
  "language_info": {
   "codemirror_mode": {
    "name": "ipython",
    "version": 3
   },
   "file_extension": ".py",
   "mimetype": "text/x-python",
   "name": "python",
   "nbconvert_exporter": "python",
   "pygments_lexer": "ipython3",
   "version": "3.8.5"
  }
 },
 "nbformat": 4,
 "nbformat_minor": 4
}
