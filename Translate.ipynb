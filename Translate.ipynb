{
  "nbformat": 4,
  "nbformat_minor": 0,
  "metadata": {
    "colab": {
      "name": "Translate.ipynb",
      "provenance": [],
      "collapsed_sections": [],
      "mount_file_id": "1dgmQHkZteDx34l1K8pq0F2IsSwApmdLd",
      "authorship_tag": "ABX9TyN+jPd9rtT6liIC+luIRmMd",
      "include_colab_link": true
    },
    "kernelspec": {
      "display_name": "Python 3",
      "name": "python3"
    }
  },
  "cells": [
    {
      "cell_type": "markdown",
      "metadata": {
        "id": "view-in-github",
        "colab_type": "text"
      },
      "source": [
        "<a href=\"https://colab.research.google.com/github/hsjfans/networks/blob/main/Translate.ipynb\" target=\"_parent\"><img src=\"https://colab.research.google.com/assets/colab-badge.svg\" alt=\"Open In Colab\"/></a>"
      ]
    },
    {
      "cell_type": "code",
      "metadata": {
        "id": "vKfgHHqyoZ7N"
      },
      "source": [
        "## Model\n",
        "import numpy as np\n",
        "import torch.nn as nn\n",
        "import torch.nn.functional as F\n",
        "import math, copy, time\n",
        "from torch.autograd import Variable\n",
        "import matplotlib.pyplot as plt\n",
        "import seaborn\n",
        "seaborn.set_context(context=\"talk\")\n",
        "import torch\n",
        "%matplotlib inline"
      ],
      "execution_count": 2,
      "outputs": []
    },
    {
      "cell_type": "code",
      "metadata": {
        "colab": {
          "base_uri": "https://localhost:8080/"
        },
        "id": "uIX8TfHPMaY-",
        "outputId": "34c8f4d1-c8ec-4dee-f720-b4f2528df174"
      },
      "source": [
        "device = torch.device('cuda' if torch.cuda.is_available() else 'cpu')\n",
        "device"
      ],
      "execution_count": 3,
      "outputs": [
        {
          "output_type": "execute_result",
          "data": {
            "text/plain": [
              "device(type='cpu')"
            ]
          },
          "metadata": {
            "tags": []
          },
          "execution_count": 3
        }
      ]
    },
    {
      "cell_type": "code",
      "metadata": {
        "id": "WYsCVUdMopZY"
      },
      "source": [
        "def clones(module, N):\n",
        "    \"Produce N identical layers.\"\n",
        "    return nn.ModuleList([copy.deepcopy(module) for _ in range(N)])"
      ],
      "execution_count": 4,
      "outputs": []
    },
    {
      "cell_type": "code",
      "metadata": {
        "id": "Oz-_MGd0pGnK"
      },
      "source": [
        "def attention(query, key, value, mask=None, dropout=None):\n",
        "    \"Compute 'Scaled Dot Product Attention'\"\n",
        "    d_k = query.size(-1)\n",
        "    scores = torch.matmul(query, key.transpose(-2, -1)) \\\n",
        "             / math.sqrt(d_k)\n",
        "    if mask is not None:\n",
        "        scores = scores.masked_fill(mask == 0, -1e9)\n",
        "    p_attn = F.softmax(scores, dim = -1)\n",
        "    if dropout is not None:\n",
        "        p_attn = dropout(p_attn)\n",
        "    return torch.matmul(p_attn, value), p_attn"
      ],
      "execution_count": 5,
      "outputs": []
    },
    {
      "cell_type": "code",
      "metadata": {
        "id": "uqq9_hGgpJQO"
      },
      "source": [
        "class MultiHeadedAttention(nn.Module):\n",
        "    def __init__(self, h, d_model, dropout=0.1):\n",
        "        \"Take in model size and number of heads.\"\n",
        "        super(MultiHeadedAttention, self).__init__()\n",
        "        assert d_model % h == 0\n",
        "        # We assume d_v always equals d_k\n",
        "        self.d_k = d_model // h\n",
        "        self.h = h\n",
        "        self.linears = clones(nn.Linear(d_model, d_model), 4)\n",
        "        self.attn = None\n",
        "        self.dropout = nn.Dropout(p=dropout)\n",
        "        \n",
        "    def forward(self, query, key, value, mask=None):\n",
        "        \"Implements Figure 2\"\n",
        "        if mask is not None:\n",
        "            # Same mask applied to all h heads.\n",
        "            mask = mask.unsqueeze(1)\n",
        "        nbatches = query.size(0)\n",
        "        \n",
        "        # 1) Do all the linear projections in batch from d_model => h x d_k \n",
        "        query, key, value = \\\n",
        "            [l(x).view(nbatches, -1, self.h, self.d_k).transpose(1, 2)\n",
        "             for l, x in zip(self.linears, (query, key, value))]\n",
        "        \n",
        "        # 2) Apply attention on all the projected vectors in batch. \n",
        "        x, self.attn = attention(query, key, value, mask=mask, \n",
        "                                 dropout=self.dropout)\n",
        "        \n",
        "        # 3) \"Concat\" using a view and apply a final linear. \n",
        "        x = x.transpose(1, 2).contiguous() \\\n",
        "             .view(nbatches, -1, self.h * self.d_k)\n",
        "        return self.linears[-1](x)"
      ],
      "execution_count": 6,
      "outputs": []
    },
    {
      "cell_type": "code",
      "metadata": {
        "id": "Rfe4YRQppMJE"
      },
      "source": [
        "class PositionwiseFeedForward(nn.Module):\n",
        "    \"Implements FFN equation.\"\n",
        "    def __init__(self, d_model, d_ff, dropout=0.1):\n",
        "        super(PositionwiseFeedForward, self).__init__()\n",
        "        self.w_1 = nn.Linear(d_model, d_ff)\n",
        "        self.w_2 = nn.Linear(d_ff, d_model)\n",
        "        self.dropout = nn.Dropout(dropout)\n",
        "\n",
        "    def forward(self, x):\n",
        "        return self.w_2(self.dropout(F.relu(self.w_1(x))))"
      ],
      "execution_count": 7,
      "outputs": []
    },
    {
      "cell_type": "code",
      "metadata": {
        "id": "YtzkoSKOpN-0"
      },
      "source": [
        "class Embeddings(nn.Module):\n",
        "    def __init__(self, d_model, vocab):\n",
        "        super(Embeddings, self).__init__()\n",
        "        self.lut = nn.Embedding(vocab, d_model)\n",
        "        self.d_model = d_model\n",
        "\n",
        "    def forward(self, x):\n",
        "        return self.lut(x) * math.sqrt(self.d_model)"
      ],
      "execution_count": 8,
      "outputs": []
    },
    {
      "cell_type": "code",
      "metadata": {
        "id": "lkBvg0u-pPw3"
      },
      "source": [
        "class PositionalEncoding(nn.Module):\n",
        "    \"Implement the PE function.\"\n",
        "    def __init__(self, d_model, dropout, max_len=5000):\n",
        "        super(PositionalEncoding, self).__init__()\n",
        "        self.dropout = nn.Dropout(p=dropout)\n",
        "        \n",
        "        # Compute the positional encodings once in log space.\n",
        "        pe = torch.zeros(max_len, d_model)\n",
        "        position = torch.arange(0, max_len).unsqueeze(1)\n",
        "        div_term = torch.exp(torch.arange(0, d_model, 2) *\n",
        "                             -(math.log(10000.0) / d_model))\n",
        "        pe[:, 0::2] = torch.sin(position * div_term)\n",
        "        pe[:, 1::2] = torch.cos(position * div_term)\n",
        "        pe = pe.unsqueeze(0)\n",
        "        self.register_buffer('pe', pe)\n",
        "        \n",
        "    def forward(self, x):\n",
        "        x = x + Variable(self.pe[:, :x.size(1)], \n",
        "                         requires_grad=False)\n",
        "        return self.dropout(x)"
      ],
      "execution_count": 9,
      "outputs": []
    },
    {
      "cell_type": "code",
      "metadata": {
        "id": "UHI75JZXos5L"
      },
      "source": [
        "class LayerNorm(nn.Module):\n",
        "    \"Construct a layernorm module (See citation for details).\"\n",
        "    def __init__(self, features, eps=1e-6):\n",
        "        super(LayerNorm, self).__init__()\n",
        "        self.a_2 = nn.Parameter(torch.ones(features))\n",
        "        self.b_2 = nn.Parameter(torch.zeros(features))\n",
        "        self.eps = eps\n",
        "\n",
        "    def forward(self, x):\n",
        "        mean = x.mean(-1, keepdim=True)\n",
        "        std = x.std(-1, keepdim=True)\n",
        "        return self.a_2 * (x - mean) / (std + self.eps) + self.b_2"
      ],
      "execution_count": 10,
      "outputs": []
    },
    {
      "cell_type": "code",
      "metadata": {
        "id": "-Y0W_amNos8k"
      },
      "source": [
        "class SublayerConnection(nn.Module):\n",
        "    \"\"\"\n",
        "    A residual connection followed by a layer norm.\n",
        "    Note for code simplicity the norm is first as opposed to last.\n",
        "    \"\"\"\n",
        "    def __init__(self, size, dropout):\n",
        "        super(SublayerConnection, self).__init__()\n",
        "        self.norm = LayerNorm(size)\n",
        "        self.dropout = nn.Dropout(dropout)\n",
        "\n",
        "    def forward(self, x, sublayer):\n",
        "        \"Apply residual connection to any sublayer with the same size.\"\n",
        "        return x + self.dropout(sublayer(self.norm(x)))"
      ],
      "execution_count": 11,
      "outputs": []
    },
    {
      "cell_type": "code",
      "metadata": {
        "id": "GDrnvBwfo3o_"
      },
      "source": [
        "class EncoderLayer(nn.Module):\n",
        "    \"Encoder is made up of self-attn and feed forward (defined below)\"\n",
        "    def __init__(self, size, self_attn, feed_forward, dropout):\n",
        "        super(EncoderLayer, self).__init__()\n",
        "        self.self_attn = self_attn\n",
        "        self.feed_forward = feed_forward\n",
        "        self.sublayer = clones(SublayerConnection(size, dropout), 2)\n",
        "        self.size = size\n",
        "\n",
        "    def forward(self, x, mask):\n",
        "        \"Follow Figure 1 (left) for connections.\"\n",
        "        x = self.sublayer[0](x, lambda x: self.self_attn(x, x, x, mask))\n",
        "        return self.sublayer[1](x, self.feed_forward)"
      ],
      "execution_count": 12,
      "outputs": []
    },
    {
      "cell_type": "code",
      "metadata": {
        "id": "7PwR_H34osx0"
      },
      "source": [
        "class Encoder(nn.Module):\n",
        "    \"Core encoder is a stack of N layers\"\n",
        "    def __init__(self, layer, N):\n",
        "        super(Encoder, self).__init__()\n",
        "        self.layers = clones(layer, N)\n",
        "        self.norm = LayerNorm(layer.size)\n",
        "        \n",
        "    def forward(self, x, mask):\n",
        "        \"Pass the input (and mask) through each layer in turn.\"\n",
        "        for layer in self.layers:\n",
        "            x = layer(x, mask)\n",
        "        return self.norm(x)"
      ],
      "execution_count": 13,
      "outputs": []
    },
    {
      "cell_type": "code",
      "metadata": {
        "id": "2FZOA_YSo80G"
      },
      "source": [
        "class DecoderLayer(nn.Module):\n",
        "    \"Decoder is made of self-attn, src-attn, and feed forward (defined below)\"\n",
        "    def __init__(self, size, self_attn, src_attn, feed_forward, dropout):\n",
        "        super(DecoderLayer, self).__init__()\n",
        "        self.size = size\n",
        "        self.self_attn = self_attn\n",
        "        self.src_attn = src_attn\n",
        "        self.feed_forward = feed_forward\n",
        "        self.sublayer = clones(SublayerConnection(size, dropout), 3)\n",
        " \n",
        "    def forward(self, x, memory, src_mask, tgt_mask):\n",
        "        \"Follow Figure 1 (right) for connections.\"\n",
        "        m = memory\n",
        "        x = self.sublayer[0](x, lambda x: self.self_attn(x, x, x, tgt_mask))\n",
        "        x = self.sublayer[1](x, lambda x: self.src_attn(x, m, m, src_mask))\n",
        "        return self.sublayer[2](x, self.feed_forward)"
      ],
      "execution_count": 14,
      "outputs": []
    },
    {
      "cell_type": "code",
      "metadata": {
        "id": "3nrtfJk6o3rV"
      },
      "source": [
        "class Decoder(nn.Module):\n",
        "    \"Generic N layer decoder with masking.\"\n",
        "    def __init__(self, layer, N):\n",
        "        super(Decoder, self).__init__()\n",
        "        self.layers = clones(layer, N)\n",
        "        self.norm = LayerNorm(layer.size)\n",
        "        \n",
        "    def forward(self, x, memory, src_mask, tgt_mask):\n",
        "        for layer in self.layers:\n",
        "            x = layer(x, memory, src_mask, tgt_mask)\n",
        "        return self.norm(x)"
      ],
      "execution_count": 15,
      "outputs": []
    },
    {
      "cell_type": "code",
      "metadata": {
        "id": "0CTZ3JiYo3tj"
      },
      "source": [
        "def subsequent_mask(size):\n",
        "    \"Mask out subsequent positions.\"\n",
        "    attn_shape = (1, size, size)\n",
        "    subsequent_mask = np.triu(np.ones(attn_shape), k=1).astype('uint8')\n",
        "    return torch.from_numpy(subsequent_mask) == 0"
      ],
      "execution_count": 16,
      "outputs": []
    },
    {
      "cell_type": "code",
      "metadata": {
        "colab": {
          "base_uri": "https://localhost:8080/",
          "height": 333
        },
        "id": "hIAO0xSRo3v1",
        "outputId": "0d25838e-1170-4e48-ee07-6b873ed0e5df"
      },
      "source": [
        "plt.figure(figsize=(5,5))\n",
        "plt.imshow(subsequent_mask(20)[0])\n",
        "None"
      ],
      "execution_count": 17,
      "outputs": [
        {
          "output_type": "display_data",
          "data": {
            "image/png": "[encoded data removed]",
            "text/plain": [
              "<Figure size 360x360 with 1 Axes>"
            ]
          },
          "metadata": {
            "tags": [],
            "needs_background": "light"
          }
        }
      ]
    },
    {
      "cell_type": "code",
      "metadata": {
        "id": "rm9Gfy3mos_g"
      },
      "source": [
        "class EncoderDecoder(nn.Module):\n",
        "    \"\"\"\n",
        "    A standard Encoder-Decoder architecture. Base for this and many \n",
        "    other models.\n",
        "    \"\"\"\n",
        "    def __init__(self, encoder, decoder, src_embed, tgt_embed, generator):\n",
        "        super(EncoderDecoder, self).__init__()\n",
        "        self.encoder = encoder\n",
        "        self.decoder = decoder\n",
        "        self.src_embed = src_embed\n",
        "        self.tgt_embed = tgt_embed\n",
        "        self.generator = generator\n",
        "        \n",
        "    def forward(self, src, tgt, src_mask, tgt_mask):\n",
        "        \"Take in and process masked src and target sequences.\"\n",
        "        return self.decode(self.encode(src, src_mask), src_mask,\n",
        "                            tgt, tgt_mask)\n",
        "    \n",
        "    def encode(self, src, src_mask):\n",
        "        return self.encoder(self.src_embed(src), src_mask)\n",
        "    \n",
        "    def decode(self, memory, src_mask, tgt, tgt_mask):\n",
        "        return self.decoder(self.tgt_embed(tgt), memory, src_mask, tgt_mask)"
      ],
      "execution_count": 18,
      "outputs": []
    },
    {
      "cell_type": "code",
      "metadata": {
        "id": "FaOQ3duVovvh"
      },
      "source": [
        "class Generator(nn.Module):\n",
        "    \"Define standard linear + softmax generation step.\"\n",
        "    def __init__(self, d_model, vocab):\n",
        "        super(Generator, self).__init__()\n",
        "        self.proj = nn.Linear(d_model, vocab)\n",
        "\n",
        "    def forward(self, x):\n",
        "        return F.log_softmax(self.proj(x), dim=-1)"
      ],
      "execution_count": 19,
      "outputs": []
    },
    {
      "cell_type": "code",
      "metadata": {
        "id": "UVApziVQpUKA"
      },
      "source": [
        "def make_model(n_src_vocab, n_tgt_vocab, N=6, \n",
        "               d_model=512, d_ff=2048, h=8, dropout=0.1):\n",
        "    \"Helper: Construct a model from hyperparameters.\"\n",
        "    c = copy.deepcopy\n",
        "    attn = MultiHeadedAttention(h, d_model)\n",
        "    ff = PositionwiseFeedForward(d_model, d_ff, dropout)\n",
        "    position = PositionalEncoding(d_model, dropout)\n",
        "    model = EncoderDecoder(\n",
        "        Encoder(EncoderLayer(d_model, c(attn), c(ff), dropout), N),\n",
        "        Decoder(DecoderLayer(d_model, c(attn), c(attn), \n",
        "                             c(ff), dropout), N),\n",
        "        nn.Sequential(Embeddings(d_model, n_src_vocab), c(position)),\n",
        "        nn.Sequential(Embeddings(d_model, n_tgt_vocab), c(position)),\n",
        "        Generator(d_model, n_tgt_vocab))\n",
        "    \n",
        "    # This was important from their code. \n",
        "    # Initialize parameters with Glorot / fan_avg.\n",
        "    for p in model.parameters():\n",
        "        if p.dim() > 1:\n",
        "            nn.init.xavier_uniform_(p)\n",
        "    return model.to(device)"
      ],
      "execution_count": 20,
      "outputs": []
    },
    {
      "cell_type": "markdown",
      "metadata": {
        "id": "Wa2ZJgsiyTtb"
      },
      "source": [
        "## Handle Data"
      ]
    },
    {
      "cell_type": "code",
      "metadata": {
        "colab": {
          "base_uri": "https://localhost:8080/"
        },
        "id": "FrndldDsyewO",
        "outputId": "ffb36ba1-f84d-4429-fbbc-9da060725e02"
      },
      "source": [
        "from google.colab import drive\n",
        "drive.mount('/content/drive')"
      ],
      "execution_count": 21,
      "outputs": [
        {
          "output_type": "stream",
          "text": [
            "Drive already mounted at /content/drive; to attempt to forcibly remount, call drive.mount(\"/content/drive\", force_remount=True).\n"
          ],
          "name": "stdout"
        }
      ]
    },
    {
      "cell_type": "code",
      "metadata": {
        "id": "q485O2mTEvqn"
      },
      "source": [
        "# !unzip -x /content/drive/MyDrive/data.zip\n"
      ],
      "execution_count": 22,
      "outputs": []
    },
    {
      "cell_type": "code",
      "metadata": {
        "colab": {
          "base_uri": "https://localhost:8080/"
        },
        "id": "msUiMsLiFHA7",
        "outputId": "2c0a5341-becc-4577-e1e2-12fe8523e647"
      },
      "source": [
        "!ls -la"
      ],
      "execution_count": 23,
      "outputs": [
        {
          "output_type": "stream",
          "text": [
            "total 28\n",
            "drwxr-xr-x 1 root root 4096 Dec 15 06:26 .\n",
            "drwxr-xr-x 1 root root 4096 Dec 15 04:21 ..\n",
            "drwxr-xr-x 1 root root 4096 Dec 10 17:17 .config\n",
            "drwxr-xr-x 2 root root 4096 Dec 15 06:28 data\n",
            "drwx------ 4 root root 4096 Dec 15 05:09 drive\n",
            "drwxr-xr-x 3 root root 4096 Dec 15 06:26 __MACOSX\n",
            "drwxr-xr-x 1 root root 4096 Dec  2 22:04 sample_data\n"
          ],
          "name": "stdout"
        }
      ]
    },
    {
      "cell_type": "code",
      "metadata": {
        "id": "5Azm6Eq4yTFI"
      },
      "source": [
        "import spacy\n",
        "import jieba\n",
        "from tqdm import tqdm\n",
        "from collections import Counter\n",
        "spacy_en = spacy.load('en')\n",
        "\n",
        "def tokenize_en(text):\n",
        "    return [tok.text for tok in spacy_en.tokenizer(text)]\n",
        "def tokenize_cn(text):\n",
        "    return [tok for tok in jieba.cut(text)]\n"
      ],
      "execution_count": 24,
      "outputs": []
    },
    {
      "cell_type": "code",
      "metadata": {
        "colab": {
          "base_uri": "https://localhost:8080/"
        },
        "id": "xw_1nirAyf3B",
        "outputId": "de513e92-e6fb-4e42-eead-463d1c665bc8"
      },
      "source": [
        "tokenize_en('asdasada,dasd,ds,asd!')"
      ],
      "execution_count": 25,
      "outputs": [
        {
          "output_type": "execute_result",
          "data": {
            "text/plain": [
              "['asdasada', ',', 'dasd', ',', 'ds', ',', 'asd', '!']"
            ]
          },
          "metadata": {
            "tags": []
          },
          "execution_count": 25
        }
      ]
    },
    {
      "cell_type": "code",
      "metadata": {
        "id": "11fL1klnzmVE"
      },
      "source": [
        "files = {'train_src_path':'./data/train_en',\n",
        "         'train_tgt_path': './data/train_cn',\n",
        "         'valid_src_path': './data/valid_en',\n",
        "         'valid_tgt_path': './data/valid_cn',\n",
        "         'test_src_path': './data/test_en',\n",
        "         'test_tgt_path': './data/test_cn'\n",
        "         }\n",
        "\n",
        "PAD_WORD = '<blank>'\n",
        "UNK_WORD = '<unk>'\n",
        "BOS_WORD = '<s>'\n",
        "EOS_WORD = '</s>'\n",
        "\n",
        "PAD_TOKEN = 0\n",
        "UNK_TOKEN = 1\n",
        "BOS_TOKEN = 2\n",
        "EOS_TOKEN = 3"
      ],
      "execution_count": 26,
      "outputs": []
    },
    {
      "cell_type": "code",
      "metadata": {
        "id": "Vc5fVKIt0yMs"
      },
      "source": [
        "def read_files(file_type='train',max_len = 6, head = 100000):\n",
        "  src_sents, tgt_sents = [], []\n",
        "  with open(files[f'{file_type}_src_path']) as src_f, open(files[f'{file_type}_tgt_path']) as tgt_f:\n",
        "    for src_line, tgt_line in zip(src_f.readlines(),tgt_f.readlines()):\n",
        "       src_words = tokenize_en(src_line.lower().strip())\n",
        "       tgt_words = tokenize_cn(tgt_line.strip())\n",
        "       if len(src_words) <= max_len and len(src_words) >= 1:\n",
        "          src_sents.append(src_words)\n",
        "          tgt_sents.append(tgt_words)\n",
        "  return src_sents, tgt_sents\n"
      ],
      "execution_count": 27,
      "outputs": []
    },
    {
      "cell_type": "code",
      "metadata": {
        "id": "Dd3iXMRz1xTd"
      },
      "source": [
        "def build_vocab(sents, extra_tokens):\n",
        "   counter = Counter()\n",
        "   word2idx, idx2word = {}, []\n",
        "   if extra_tokens:\n",
        "      idx2word += extra_tokens\n",
        "      word2idx = {word: idx for idx, word in enumerate(extra_tokens)}\n",
        "   for sent in tqdm(sents):\n",
        "        for w in sent:\n",
        "            counter.update([w])\n",
        "   sorted_counter = sorted(counter.items(), key=lambda tup: tup[0])\n",
        "   sorted_counter.sort(key=lambda tup: tup[1], reverse=True)\n",
        "   for word, freq in sorted_counter:\n",
        "      if freq <= 2: \n",
        "        continue\n",
        "      idx2word.append(word)\n",
        "      word2idx[word] = len(idx2word) - 1\n",
        "   return counter, word2idx, idx2word"
      ],
      "execution_count": 28,
      "outputs": []
    },
    {
      "cell_type": "code",
      "metadata": {
        "id": "OQdnYUsr3AHL"
      },
      "source": [
        "def convert_text2idx(examples, word2idx):\n",
        "    return [[word2idx[w] if w in word2idx else UNK_TOKEN\n",
        "             for w in sent] for sent in examples]\n",
        "\n",
        "\n",
        "def convert_idx2text(example, idx2word):\n",
        "    words = []\n",
        "    for i in example:\n",
        "        if i == EOS_TOKEN:\n",
        "            break\n",
        "        words.append(idx2word[i])\n",
        "    return ' '.join(words)"
      ],
      "execution_count": 29,
      "outputs": []
    },
    {
      "cell_type": "code",
      "metadata": {
        "colab": {
          "base_uri": "https://localhost:8080/"
        },
        "id": "En7UrtCVFmnV",
        "outputId": "30f7acf6-a7c1-421b-d7d5-7c406ef1aeef"
      },
      "source": [
        "!ls data"
      ],
      "execution_count": 30,
      "outputs": [
        {
          "output_type": "stream",
          "text": [
            "test_cn  test_en  train_cn  train_en  valid_cn\tvalid_en\n"
          ],
          "name": "stdout"
        }
      ]
    },
    {
      "cell_type": "code",
      "metadata": {
        "id": "yhq_gzLfkwGs"
      },
      "source": [
        "if False:\n",
        "  # 构建词典\n",
        "  extra_tokens = [PAD_WORD, UNK_WORD, BOS_WORD, EOS_WORD]\n",
        "  train_src,train_tgt = read_files()\n",
        "  src_counter, src_word2idx, src_idx2word = build_vocab(train_src, extra_tokens)\n",
        "  tgt_counter, tgt_word2idx, tgt_idx2word = build_vocab(train_tgt, extra_tokens)\n",
        "  valid_src,valid_tgt = read_files('valid')\n",
        "  train_src, train_tgt = convert_text2idx(train_src, src_word2idx), convert_text2idx(\n",
        "            train_tgt, tgt_word2idx)\n",
        "  valid_src, valid_tgt = convert_text2idx(valid_src, src_word2idx), convert_text2idx(\n",
        "            valid_tgt, tgt_word2idx)\n",
        "  torch.save(\n",
        "        {\n",
        "            'src_dict': (src_counter, src_word2idx, src_idx2word),\n",
        "            'tgt_dict': (tgt_counter, tgt_word2idx, tgt_idx2word),\n",
        "        }, '{}_dict'.format('/content/drive/MyDrive/train')\n",
        "    )\n",
        "\n",
        "  torch.save(\n",
        "        {\n",
        "            'train_src': train_src,     'train_tgt': train_tgt,\n",
        "            'dev_src': valid_src,       'dev_tgt': valid_tgt,\n",
        "            'src_dict': src_word2idx,  'tgt_dict': tgt_word2idx,\n",
        "        }, '{}_train'.format('/content/drive/MyDrive/train')\n",
        "  )"
      ],
      "execution_count": 31,
      "outputs": []
    },
    {
      "cell_type": "code",
      "metadata": {
        "id": "mPtCmu8x5kSA"
      },
      "source": [
        "if True:\n",
        "  train_dict = torch.load('/content/drive/MyDrive/train_dict')\n",
        "  train_data = torch.load('/content/drive/MyDrive/train_train')\n",
        "  train_src, train_tgt,valid_src, valid_tgt  = train_data['train_src'],train_data['train_tgt'],train_data['dev_src'],train_data['dev_tgt']\n",
        "  src_word2idx = train_data['src_dict']\n",
        "  tgt_word2idx = train_data['tgt_dict']\n",
        "  tgt_counter,src_word2idx,src_idx2word= train_dict['src_dict']\n",
        "  tgt_counter,tgt_word2idx,tgt_idx2word = train_dict['tgt_dict']\n"
      ],
      "execution_count": 32,
      "outputs": []
    },
    {
      "cell_type": "code",
      "metadata": {
        "colab": {
          "base_uri": "https://localhost:8080/"
        },
        "id": "aKkj1y4ple4_",
        "outputId": "1c0f4e3f-8463-443a-afe6-f2c8a9630ce6"
      },
      "source": [
        "len(tgt_word2idx), len(src_word2idx)"
      ],
      "execution_count": 33,
      "outputs": [
        {
          "output_type": "execute_result",
          "data": {
            "text/plain": [
              "(19856, 15163)"
            ]
          },
          "metadata": {
            "tags": []
          },
          "execution_count": 33
        }
      ]
    },
    {
      "cell_type": "code",
      "metadata": {
        "colab": {
          "base_uri": "https://localhost:8080/"
        },
        "id": "9uG7JfAyD25l",
        "outputId": "83a01ced-bd1f-4e57-8082-1d5cbb857898"
      },
      "source": [
        "tgt_idx2word[:10]"
      ],
      "execution_count": 34,
      "outputs": [
        {
          "output_type": "execute_result",
          "data": {
            "text/plain": [
              "['<blank>', '<unk>', '<s>', '</s>', '.', '。', '的', '了', '我', '你']"
            ]
          },
          "metadata": {
            "tags": []
          },
          "execution_count": 34
        }
      ]
    },
    {
      "cell_type": "code",
      "metadata": {
        "id": "BwhwDUhi-2Cc"
      },
      "source": [
        "from torchtext.data import Field, Iterator\n",
        "import torchtext.data as data\n",
        "\n",
        "class ParallelDataset(data.Dataset):\n",
        "    \"\"\"Defines a custom dataset for machine translation.\"\"\"\n",
        "    @staticmethod\n",
        "    def sort_key(ex):\n",
        "        return data.interleave_keys(len(ex.src), len(ex.trg))\n",
        "\n",
        "    def __init__(self, src_examples, trg_examples, fields, **kwargs):\n",
        "        \"\"\"Create a Translation Dataset given paths and fields.\n",
        "\n",
        "        Arguments:\n",
        "            path: Path to the data preprocessed with preprocess.py\n",
        "            category: Whether the Dataset is for training or development\n",
        "            fields: A tuple containing the fields that will be used for data\n",
        "                in each language.\n",
        "            Remaining keyword arguments: Passed to the constructor of\n",
        "                data.Dataset.\n",
        "        \"\"\"\n",
        "        if not isinstance(fields[0], (tuple, list)):\n",
        "            if trg_examples is None:\n",
        "                fields = [('src', fields[0])]\n",
        "            else:\n",
        "                fields = [('src', fields[0]), ('tgt', fields[1])]\n",
        "\n",
        "        examples = []\n",
        "        if trg_examples is None:\n",
        "            for src_line in src_examples:\n",
        "                examples.append(data.Example.fromlist(\n",
        "                    [src_line], fields))\n",
        "        else:\n",
        "            for src_line, trg_line in zip(src_examples, trg_examples):\n",
        "                examples.append(data.Example.fromlist(\n",
        "                    [src_line, trg_line], fields))\n",
        "\n",
        "        super(ParallelDataset, self).__init__(examples, fields, **kwargs)\n"
      ],
      "execution_count": 35,
      "outputs": []
    },
    {
      "cell_type": "code",
      "metadata": {
        "id": "h_xR2YAG_rBl"
      },
      "source": [
        "src_field = Field(sequential=True, use_vocab=False, include_lengths=True, batch_first=True,\n",
        "                      pad_token=PAD_TOKEN, unk_token=UNK_TOKEN, init_token=None, eos_token=None,)\n",
        "tgt_field = Field(sequential=True, use_vocab=False, include_lengths=True, batch_first=True,\n",
        "                      pad_token=PAD_TOKEN, unk_token=UNK_TOKEN, init_token=BOS_TOKEN, eos_token=EOS_TOKEN,)\n",
        "fields = (src_field, tgt_field)\n",
        "\n",
        "def filter_pred(example,max_src_len = 6):\n",
        "    if len(example.src) <= max_src_len :\n",
        "        return True\n",
        "    return False"
      ],
      "execution_count": 36,
      "outputs": []
    },
    {
      "cell_type": "code",
      "metadata": {
        "id": "XHg-2Afz97RR"
      },
      "source": [
        "def load_train_data(batch_size = 64):\n",
        "\n",
        "  train_data = ParallelDataset(\n",
        "        train_src, train_tgt, fields=fields, filter_pred=filter_pred,)\n",
        "  train_iter = Iterator(dataset=train_data, batch_size=batch_size, train=True,\n",
        "                          sort_key=lambda x: data.interleave_keys(\n",
        "                              len(x.src), len(x.tgt)),\n",
        "                          repeat=False, shuffle=True, device=device)\n",
        "  valid_data = ParallelDataset(valid_src, valid_tgt, fields=fields,)\n",
        "  valid_iter = Iterator(dataset=valid_data, batch_size=batch_size, train=False,\n",
        "                        repeat=False, device=device, shuffle=False, sort=False,)\n",
        "  \n",
        "  return  train_iter, valid_iter\n"
      ],
      "execution_count": 37,
      "outputs": []
    },
    {
      "cell_type": "markdown",
      "metadata": {
        "id": "UqptU5Jm_-b3"
      },
      "source": [
        "## Train"
      ]
    },
    {
      "cell_type": "code",
      "metadata": {
        "id": "ONeAbNOiCozl"
      },
      "source": [
        "class SimpleLossCompute:\n",
        "    \"A simple loss compute and train function.\"\n",
        "    def __init__(self, generator, criterion, opt=None):\n",
        "        self.generator = generator\n",
        "        self.criterion = criterion\n",
        "        self.opt = opt\n",
        "        \n",
        "    def __call__(self, x, y, norm):\n",
        "        x = self.generator(x)\n",
        "        loss = self.criterion(x.contiguous().view(-1, x.size(-1)), \n",
        "                              y.contiguous().view(-1)) / norm\n",
        "        loss.backward()\n",
        "        if self.opt is not None:\n",
        "            self.opt.step()\n",
        "            self.opt.optimizer.zero_grad()\n",
        "        return loss.item() * norm"
      ],
      "execution_count": 38,
      "outputs": []
    },
    {
      "cell_type": "code",
      "metadata": {
        "id": "qlczQGiKBqkt"
      },
      "source": [
        "class Batch:\n",
        "    \"Object for holding a batch of data with mask during training.\"\n",
        "    def __init__(self, src, trg=None, pad=0):\n",
        "        self.src = src\n",
        "        self.src_mask = (src != pad).unsqueeze(-2)\n",
        "        if trg is not None:\n",
        "            self.trg = trg[:, :-1]\n",
        "            self.trg_y = trg[:, 1:]\n",
        "            self.trg_mask = \\\n",
        "                self.make_std_mask(self.trg, pad)\n",
        "            self.ntokens = (self.trg_y != pad).data.sum()\n",
        "    \n",
        "    @staticmethod\n",
        "    def make_std_mask(tgt, pad):\n",
        "        \"Create a mask to hide padding and future words.\"\n",
        "        tgt_mask = (tgt != pad).unsqueeze(-2)\n",
        "        tgt_mask = tgt_mask & Variable(\n",
        "            subsequent_mask(tgt.size(-1)).type_as(tgt_mask.data))\n",
        "        return tgt_mask"
      ],
      "execution_count": 39,
      "outputs": []
    },
    {
      "cell_type": "code",
      "metadata": {
        "id": "XktSL_mRA2Ob"
      },
      "source": [
        "def run_epoch(data_iter, model, loss_compute):\n",
        "    \"Standard Training and Logging Function\"\n",
        "    start = time.time()\n",
        "    total_tokens = 0\n",
        "    total_loss = 0\n",
        "    tokens = 0\n",
        "    desc = '- (Training)' if loss_compute is not None else '- (Valid)'\n",
        "    for data in tqdm(data_iter,mininterval= 3, desc=desc, leave=False):\n",
        "        batch = Batch(data.src[0],data.tgt[0])\n",
        "        # print(batch.src.cuda,batch.trg.cuda,batch.src_mask.cuda,batch.trg_mask.cuda)\n",
        "        out = model.forward(batch.src, batch.trg, \n",
        "                            batch.src_mask, batch.trg_mask)\n",
        "  \n",
        "        loss = loss_compute(out, batch.trg_y, batch.ntokens)\n",
        "        total_loss += loss\n",
        "        total_tokens += batch.ntokens\n",
        "        tokens += batch.ntokens\n",
        "        # if i % 50 == 1:\n",
        "        #     elapsed = time.time() - start\n",
        "        #     print(\"Epoch Step: %d Loss: %f Tokens per Sec: %f\" %\n",
        "        #             (i, loss / batch.ntokens, tokens / elapsed))\n",
        "        #     start = time.time()\n",
        "        #     tokens = 0\n",
        "    return total_loss / total_tokens"
      ],
      "execution_count": 40,
      "outputs": []
    },
    {
      "cell_type": "code",
      "metadata": {
        "id": "C8CL99o4QH_y"
      },
      "source": [
        "def save_checkpoint(model, epoch):\n",
        "  checkpoint = {'model':model.state_dict(), 'epoch':epoch}\n",
        "  torch.save(checkpoint,f'/content/drive/MyDrive/translate_{epoch}.chkpt')"
      ],
      "execution_count": 41,
      "outputs": []
    },
    {
      "cell_type": "code",
      "metadata": {
        "id": "S9UxykaxL0lE"
      },
      "source": [
        "class LabelSmoothing(nn.Module):\n",
        "    \"Implement label smoothing.\"\n",
        "    def __init__(self, size, padding_idx, smoothing=0.0):\n",
        "        super(LabelSmoothing, self).__init__()\n",
        "        self.criterion = nn.KLDivLoss(size_average=False)\n",
        "        self.padding_idx = padding_idx\n",
        "        self.confidence = 1.0 - smoothing\n",
        "        self.smoothing = smoothing\n",
        "        self.size = size\n",
        "        self.true_dist = None\n",
        "        \n",
        "    def forward(self, x, target):\n",
        "        assert x.size(1) == self.size\n",
        "        true_dist = x.data.clone()\n",
        "        true_dist.fill_(self.smoothing / (self.size - 2))\n",
        "        true_dist.scatter_(1, target.data.unsqueeze(1), self.confidence)\n",
        "        true_dist[:, self.padding_idx] = 0\n",
        "        mask = torch.nonzero(target.data == self.padding_idx)\n",
        "        if mask.dim() > 0:\n",
        "            true_dist.index_fill_(0, mask.squeeze(), 0.0)\n",
        "        self.true_dist = true_dist\n",
        "        return self.criterion(x, Variable(true_dist, requires_grad=False))"
      ],
      "execution_count": 42,
      "outputs": []
    },
    {
      "cell_type": "code",
      "metadata": {
        "id": "i1HfrjxKL8j8"
      },
      "source": [
        "class NoamOpt:\n",
        "    \"Optim wrapper that implements rate.\"\n",
        "    def __init__(self, model_size, factor, warmup, optimizer):\n",
        "        self.optimizer = optimizer\n",
        "        self._step = 0\n",
        "        self.warmup = warmup\n",
        "        self.factor = factor\n",
        "        self.model_size = model_size\n",
        "        self._rate = 0\n",
        "        \n",
        "    def step(self):\n",
        "        \"Update parameters and rate\"\n",
        "        self._step += 1\n",
        "        rate = self.rate()\n",
        "        for p in self.optimizer.param_groups:\n",
        "            p['lr'] = rate\n",
        "        self._rate = rate\n",
        "        self.optimizer.step()\n",
        "        \n",
        "    def rate(self, step = None):\n",
        "        \"Implement `lrate` above\"\n",
        "        if step is None:\n",
        "            step = self._step\n",
        "        return self.factor * \\\n",
        "            (self.model_size ** (-0.5) *\n",
        "            min(step ** (-0.5), step * self.warmup ** (-1.5)))\n",
        "        \n",
        "def get_std_opt(model):\n",
        "    return NoamOpt(model.src_embed[0].d_model, 2, 4000,\n",
        "            torch.optim.Adam(model.parameters(), lr=0, betas=(0.9, 0.98), eps=1e-9))"
      ],
      "execution_count": 43,
      "outputs": []
    },
    {
      "cell_type": "code",
      "metadata": {
        "colab": {
          "base_uri": "https://localhost:8080/"
        },
        "id": "p4YEQAGV_5ju",
        "outputId": "0dcb5ecd-910f-4d4c-eb40-02fb3209fb36"
      },
      "source": [
        "n_src_vocab = len(src_word2idx)\n",
        "n_tgt_vocab = len(tgt_word2idx)\n",
        "epochs = 10\n",
        "criterion = LabelSmoothing(size=n_tgt_vocab, padding_idx=0, smoothing=0.0)\n",
        "model = make_model(n_src_vocab,n_tgt_vocab)\n",
        "model_opt = get_std_opt(model)\n"
      ],
      "execution_count": 44,
      "outputs": [
        {
          "output_type": "stream",
          "text": [
            "/usr/local/lib/python3.6/dist-packages/torch/nn/_reduction.py:44: UserWarning: size_average and reduce args will be deprecated, please use reduction='sum' instead.\n",
            "  warnings.warn(warning.format(ret))\n"
          ],
          "name": "stderr"
        }
      ]
    },
    {
      "cell_type": "code",
      "metadata": {
        "id": "FvU0JLoRB_oV"
      },
      "source": [
        "train_iter,valid_iter = load_train_data()"
      ],
      "execution_count": 45,
      "outputs": []
    },
    {
      "cell_type": "code",
      "metadata": {
        "id": "ZlfafEk7Qse9"
      },
      "source": [
        ""
      ],
      "execution_count": 45,
      "outputs": []
    },
    {
      "cell_type": "code",
      "metadata": {
        "id": "DUwBOGi3Ak6W"
      },
      "source": [
        "if False:\n",
        "  for epoch in range(epochs):\n",
        "    model.train()\n",
        "    train_loss = run_epoch(train_iter, model, SimpleLossCompute(model.generator, criterion, model_opt))\n",
        "    model.eval()\n",
        "    valid_loss = run_epoch(valid_iter, model, SimpleLossCompute(model.generator, criterion, None))\n",
        "    print(f'valid_loss: {valid_loss}, train_loss: {train_loss}')\n",
        "\n",
        "    if epoch % 2 == 0:\n",
        "       save_checkpoint(model, epoch)\n",
        "  \n"
      ],
      "execution_count": 46,
      "outputs": []
    },
    {
      "cell_type": "code",
      "metadata": {
        "id": "xcBT0E_cDHJp"
      },
      "source": [
        "if torch.cuda.is_available():\n",
        "  checkpoint = torch.load('/content/drive/MyDrive/translate_8.chkpt')\n",
        "else:\n",
        "  checkpoint = torch.load('/content/drive/MyDrive/translate_8.chkpt',map_location=torch.device('cpu'))"
      ],
      "execution_count": 47,
      "outputs": []
    },
    {
      "cell_type": "code",
      "metadata": {
        "colab": {
          "base_uri": "https://localhost:8080/"
        },
        "id": "b6qdazv4Get6",
        "outputId": "738d823b-62dc-4c24-d48f-149e00b3ccf0"
      },
      "source": [
        "model = make_model(len(src_idx2word),len(tgt_idx2word))\n",
        "model.load_state_dict(checkpoint['model'].state_dict())"
      ],
      "execution_count": 50,
      "outputs": [
        {
          "output_type": "execute_result",
          "data": {
            "text/plain": [
              "<All keys matched successfully>"
            ]
          },
          "metadata": {
            "tags": []
          },
          "execution_count": 50
        }
      ]
    },
    {
      "cell_type": "markdown",
      "metadata": {
        "id": "iOorO90rGd1A"
      },
      "source": [
        ""
      ]
    },
    {
      "cell_type": "code",
      "metadata": {
        "colab": {
          "base_uri": "https://localhost:8080/"
        },
        "id": "xKuJO42fGR1I",
        "outputId": "6245edac-ac72-4336-a2f0-48563c907454"
      },
      "source": [
        "model.eval()\n",
        "model.to(torch.device('cpu'))\n",
        "sent = \"The is a cat\".split()\n",
        "sent"
      ],
      "execution_count": 59,
      "outputs": [
        {
          "output_type": "execute_result",
          "data": {
            "text/plain": [
              "['The', 'is', 'a', 'cat']"
            ]
          },
          "metadata": {
            "tags": []
          },
          "execution_count": 59
        }
      ]
    },
    {
      "cell_type": "code",
      "metadata": {
        "id": "rILF1nLMG_5e"
      },
      "source": [
        "def greedy_decode(model, src, src_mask, max_len, start_symbol):\n",
        "    memory = model.encode(src, src_mask)\n",
        "    ys = torch.ones(1, 1).fill_(start_symbol).type_as(src.data)\n",
        "    for i in range(max_len-1):\n",
        "        out = model.decode(memory, src_mask, \n",
        "                           Variable(ys), \n",
        "                           Variable(subsequent_mask(ys.size(1))\n",
        "                                    .type_as(src.data)))\n",
        "        prob = model.generator(out[:, -1])\n",
        "        _, next_word = torch.max(prob, dim = 1)\n",
        "        next_word = next_word.data[0]\n",
        "        ys = torch.cat([ys, \n",
        "                        torch.ones(1, 1).type_as(src.data).fill_(next_word)], dim=1)\n",
        "    return ys"
      ],
      "execution_count": 61,
      "outputs": []
    },
    {
      "cell_type": "code",
      "metadata": {
        "colab": {
          "base_uri": "https://localhost:8080/"
        },
        "id": "TcaiszzKHRF9",
        "outputId": "3803af45-08e2-4c61-cffa-eececea079c9"
      },
      "source": [
        "src = torch.LongTensor([[ src_word2idx[w] if w in src_word2idx else UNK_TOKEN for w in sent]])\n",
        "src = Variable(src)\n",
        "src_mask = (src != PAD_TOKEN).unsqueeze(-2)\n",
        "out = greedy_decode(model, src, src_mask, \n",
        "                    max_len=30, start_symbol= BOS_TOKEN)\n",
        "print(\"Translation:\", end=\"\\t\")\n",
        "trans = \"<s> \"\n",
        "for i in range(1, out.size(1)):\n",
        "    sym = tgt_idx2word[out[0, i].item()]\n",
        "    if sym == \"</s>\": break\n",
        "    trans += sym + \" \"\n",
        "print(trans)"
      ],
      "execution_count": 62,
      "outputs": [
        {
          "output_type": "stream",
          "text": [
            "Translation:\t<s> 猫 <unk> <unk> <unk> <unk> <unk> <unk> \n"
          ],
          "name": "stdout"
        }
      ]
    }
  ]
}